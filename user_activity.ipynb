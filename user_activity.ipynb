{
 "cells": [
  {
   "cell_type": "code",
   "execution_count": null,
   "metadata": {},
   "outputs": [],
   "source": [
    "# Perform necessary imports\n",
    "from dotenv import load_dotenv\n",
    "import os\n",
    "import requests\n",
    "import json\n",
    "from datetime import datetime\n",
    "import time\n",
    "\n",
    "# Load variables from .env file\n",
    "load_dotenv()"
   ]
  },
  {
   "cell_type": "code",
   "execution_count": null,
   "metadata": {},
   "outputs": [],
   "source": [
    "# Read environment variables\n",
    "BASE_URL = os.getenv(\"BASE_URL\")\n",
    "OAUTH_ENDPOINT = os.getenv(\"OAUTH_ENDPOINT\")\n",
    "ACCESS_TOKEN = os.getenv(\"ACCESS_TOKEN\")\n",
    "CLIENT_ID = os.getenv(\"CLIENT_ID\")\n",
    "REFRESH_TOKEN = os.getenv(\"REFRESH_TOKEN\")\n",
    "CLIENT_SECRET = os.getenv(\"CLIENT_SECRET\")\n",
    "AUTHORIZATION_CODE = os.getenv(\"AUTHORIZATION_CODE\")"
   ]
  },
  {
   "cell_type": "code",
   "execution_count": null,
   "metadata": {},
   "outputs": [],
   "source": [
    "# Fetch the basic user profile of the user\n",
    "athlete_profile = f'{BASE_URL}/athlete'\n",
    "headers = {\n",
    "    'Authorization': f'Bearer {ACCESS_TOKEN}'\n",
    "}\n",
    "\n",
    "response = requests.get(athlete_profile, headers=headers)\n",
    "\n",
    "if response.status_code == 200:\n",
    "    athelete_basic_data = response.json()\n",
    "    print(json.dumps(athelete_basic_data, indent=4))\n",
    "else:\n",
    "    print(\"Error: \", response)"
   ]
  },
  {
   "cell_type": "code",
   "execution_count": null,
   "metadata": {},
   "outputs": [],
   "source": [
    "# Perform OAuth authentication to generate access tokens for reading activities\n",
    "params = {\n",
    "    'client_id': CLIENT_ID,\n",
    "    'client_secret': CLIENT_SECRET,\n",
    "    'code': AUTHORIZATION_CODE,\n",
    "    'grant_type': 'authorization_code'\n",
    "}\n",
    "\n",
    "authentication_response = requests.post(OAUTH_ENDPOINT, params=params)\n",
    "\n",
    "if authentication_response.status_code == 200:\n",
    "    authentication_response_data = authentication_response.json()\n",
    "    print(json.dumps(authentication_response_data, indent=4))\n",
    "else:\n",
    "    print(\"Error: \", authentication_response)"
   ]
  },
  {
   "cell_type": "code",
   "execution_count": null,
   "metadata": {},
   "outputs": [],
   "source": [
    "# We use the access token from authentication_response_data to read user's activities\n",
    "data_access_token = authentication_response_data['access_token']\n",
    "print(data_access_token)"
   ]
  },
  {
   "cell_type": "code",
   "execution_count": null,
   "metadata": {},
   "outputs": [],
   "source": [
    "# Fetch a list of user's activities using the retrieved access token\n",
    "activities_list_endpoint = f'{BASE_URL}/athlete/activities'\n",
    "before_ts = int(time.time())\n",
    "after_ts = datetime(2023,1,1,0,0,1)\n",
    "params = {\n",
    "    'before': before_ts,\n",
    "    'after': after_ts,\n",
    "    'page': 1\n",
    "}\n",
    "\n",
    "headers = {\n",
    "    'Authorization': f'Bearer {data_access_token}'\n",
    "}\n",
    "\n",
    "activities_response = requests.get(activities_list_endpoint, headers=headers, params=params)\n",
    "\n",
    "if activities_response.status_code == 200:\n",
    "    activites_response_data = activities_response.json()\n",
    "    print(json.dumps(activites_response_data, indent=4))\n",
    "else:\n",
    "    print(\"Error: \", activities_response)\n",
    "\n",
    "# dump the activities record into a JSON flatfile\n",
    "with open('activity_data.json', 'w') as file:\n",
    "    json.dump(activites_response_data, file, indent=4)\n"
   ]
  },
  {
   "cell_type": "code",
   "execution_count": null,
   "metadata": {},
   "outputs": [],
   "source": []
  }
 ],
 "metadata": {
  "kernelspec": {
   "display_name": "StravaActivitySummary",
   "language": "python",
   "name": "python3"
  },
  "language_info": {
   "codemirror_mode": {
    "name": "ipython",
    "version": 3
   },
   "file_extension": ".py",
   "mimetype": "text/x-python",
   "name": "python",
   "nbconvert_exporter": "python",
   "pygments_lexer": "ipython3",
   "version": "3.11.9"
  }
 },
 "nbformat": 4,
 "nbformat_minor": 2
}
